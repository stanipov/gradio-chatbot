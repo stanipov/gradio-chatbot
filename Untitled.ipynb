{
 "cells": [
  {
   "cell_type": "code",
   "execution_count": 1,
   "id": "86d5e594-568f-40f0-b057-46080b0d39d9",
   "metadata": {},
   "outputs": [],
   "source": [
    "import json\n",
    "from src.model import Mistral_chat_LLM"
   ]
  },
  {
   "cell_type": "code",
   "execution_count": 2,
   "id": "207d0422-9509-4f12-a906-e01c3f77e6b2",
   "metadata": {},
   "outputs": [],
   "source": [
    "cfg_file = '/home/sf/data/py_proj/2023/gradio_chatbot/app_config.json'\n",
    "with open(cfg_file, 'r') as f:\n",
    "    config = json.load(f)"
   ]
  },
  {
   "cell_type": "code",
   "execution_count": 3,
   "id": "cf7b54cf-5712-4c4b-84c4-fa7c0cc58ebc",
   "metadata": {},
   "outputs": [
    {
     "data": {
      "application/vnd.jupyter.widget-view+json": {
       "model_id": "3fec77ed612f4dc093741b44b8629103",
       "version_major": 2,
       "version_minor": 0
      },
      "text/plain": [
       "Loading checkpoint shards:   0%|          | 0/2 [00:00<?, ?it/s]"
      ]
     },
     "metadata": {},
     "output_type": "display_data"
    },
    {
     "name": "stderr",
     "output_type": "stream",
     "text": [
      "Special tokens have been added in the vocabulary, make sure the associated word embeddings are fine-tuned or trained.\n",
      "Special tokens have been added in the vocabulary, make sure the associated word embeddings are fine-tuned or trained.\n"
     ]
    }
   ],
   "source": [
    "llm = Mistral_chat_LLM(config['model'])\n",
    "llm.from_pretrained(enable_adapter=True)"
   ]
  },
  {
   "cell_type": "code",
   "execution_count": null,
   "id": "81d6d2e4-8570-4cc7-8bf1-0227216bb603",
   "metadata": {},
   "outputs": [],
   "source": []
  }
 ],
 "metadata": {
  "kernelspec": {
   "display_name": "Python [conda env:llm]",
   "language": "python",
   "name": "conda-env-llm-py"
  },
  "language_info": {
   "codemirror_mode": {
    "name": "ipython",
    "version": 3
   },
   "file_extension": ".py",
   "mimetype": "text/x-python",
   "name": "python",
   "nbconvert_exporter": "python",
   "pygments_lexer": "ipython3",
   "version": "3.9.18"
  }
 },
 "nbformat": 4,
 "nbformat_minor": 5
}
